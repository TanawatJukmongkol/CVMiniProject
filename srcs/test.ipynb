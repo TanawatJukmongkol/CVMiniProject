{
 "cells": [
  {
   "cell_type": "code",
   "execution_count": null,
   "metadata": {},
   "outputs": [],
   "source": [
    "import\tcv2 as cv\n",
    "import\tmatplotlib.pyplot as plt\n",
    "import\tnumpy as np\n",
    "import\tos\n",
    "import\tsys\n",
    "import\tmath\n",
    "from\tskimage.morphology import skeletonize\n",
    "# Library from utkarsh, Peter Kovesi \n",
    "# School of Computer Science & Software Engineering\n",
    "# The University of Western Australia\n",
    "from\tlib import image_enhance"
   ]
  },
  {
   "cell_type": "code",
   "execution_count": 1,
   "metadata": {},
   "outputs": [
    {
     "ename": "NameError",
     "evalue": "name 'cv' is not defined",
     "output_type": "error",
     "traceback": [
      "\u001b[0;31m---------------------------------------------------------------------------\u001b[0m",
      "\u001b[0;31mNameError\u001b[0m                                 Traceback (most recent call last)",
      "Cell \u001b[0;32mIn[1], line 1\u001b[0m\n\u001b[0;32m----> 1\u001b[0m sample \u001b[38;5;241m=\u001b[39m \u001b[43mcv\u001b[49m\u001b[38;5;241m.\u001b[39mimread(\u001b[38;5;124m\"\u001b[39m\u001b[38;5;124m../db/101_1.tif\u001b[39m\u001b[38;5;124m\"\u001b[39m, cv\u001b[38;5;241m.\u001b[39mIMREAD_GRAYSCALE)\n\u001b[1;32m      2\u001b[0m to_match \u001b[38;5;241m=\u001b[39m cv\u001b[38;5;241m.\u001b[39mimread(\u001b[38;5;124m\"\u001b[39m\u001b[38;5;124m../db/102_1.tif\u001b[39m\u001b[38;5;124m\"\u001b[39m, cv\u001b[38;5;241m.\u001b[39mIMREAD_GRAYSCALE)\n",
      "\u001b[0;31mNameError\u001b[0m: name 'cv' is not defined"
     ]
    }
   ],
   "source": [
    "sample = cv.imread(\"../db/101_1.tif\", cv.IMREAD_GRAYSCALE)\n",
    "to_match = cv.imread(\"../db/102_1.tif\", cv.IMREAD_GRAYSCALE)"
   ]
  },
  {
   "cell_type": "code",
   "execution_count": null,
   "metadata": {},
   "outputs": [],
   "source": [
    "def removedot(invertThin):\n",
    "\ttemp0 = np.array(invertThin[:])\n",
    "\ttemp0 = np.array(temp0)\n",
    "\ttemp1 = temp0 / 255\n",
    "\ttemp2 = np.array(temp1)\n",
    "\ttemp3 = np.array(temp2)\n",
    "\n",
    "\tenhanced_img = np.array(temp0)\n",
    "\tfilter0 = np.zeros((10,10))\n",
    "\tW, H = temp0.shape[:2]\n",
    "\tfiltersize = 6\n",
    "\n",
    "\tfor i in range(W - filtersize):\n",
    "\t\tfor j in range(H - filtersize):\n",
    "\t\t\tfilter0 = temp1[i:i + filtersize,j:j + filtersize]\n",
    "\n",
    "\t\t\tflag = 0\n",
    "\t\t\tif sum(filter0[:,0]) == 0:\n",
    "\t\t\t\tflag +=1\n",
    "\t\t\tif sum(filter0[:,filtersize - 1]) == 0:\n",
    "\t\t\t\tflag +=1\n",
    "\t\t\tif sum(filter0[0,:]) == 0:\n",
    "\t\t\t\tflag +=1\n",
    "\t\t\tif sum(filter0[filtersize - 1,:]) == 0:\n",
    "\t\t\t\tflag +=1\n",
    "\t\t\tif flag > 3:\n",
    "\t\t\t\ttemp2[i:i + filtersize, j:j + filtersize] = np.zeros((filtersize, filtersize))\n",
    "\n",
    "\treturn temp2"
   ]
  },
  {
   "cell_type": "code",
   "execution_count": null,
   "metadata": {},
   "outputs": [],
   "source": [
    "def get_descriptors(img):\n",
    "\tclahe = cv.createCLAHE(clipLimit=2.0, tileGridSize=(8,8))\n",
    "\timg = clahe.apply(img)\n",
    "\timg = image_enhance.image_enhance(img)\n",
    "\n",
    "\tplt.imshow(img, cmap=\"gray\")\n",
    "\timg = np.array(img, dtype=np.uint8)\n",
    "\t# Threshold\n",
    "\tret, img = cv.threshold(img, 200, 255, cv.THRESH_BINARY_INV | cv.THRESH_OTSU)\n",
    "\t# Normalize to 0 and 1 range\n",
    "\timg[img == 255] = 1\n",
    "\t#Thinning\n",
    "\tskeleton = skeletonize(img)\n",
    "\tskeleton = np.array(skeleton, dtype=np.uint8)\n",
    "\tskeleton = removedot(skeleton)\n",
    "\t# Harris corners\n",
    "\tharris_corners = cv.cornerHarris(img, 3, 3, 0.04)\n",
    "\tharris_normalized = cv.normalize(harris_corners, 0, 255, norm_type=cv.NORM_MINMAX, dtype=cv.CV_32FC1)\n",
    "\tthreshold_harris = 125\n",
    "\t# Extract keypoints\n",
    "\tkeypoints = []\n",
    "\tfor x in range(0, harris_normalized.shape[0]):\n",
    "\t\tfor y in range(0, harris_normalized.shape[1]):\n",
    "\t\t\tif harris_normalized[x][y] > threshold_harris:\n",
    "\t\t\t\tkeypoints.append(cv.KeyPoint(y, x, 1))\n",
    "\t# Define descriptor\n",
    "\torb = cv.ORB_create()\n",
    "\t# Compute descriptors\n",
    "\t_, des = orb.compute(img, keypoints)\n",
    "\treturn (keypoints, des);"
   ]
  },
  {
   "cell_type": "code",
   "execution_count": null,
   "metadata": {},
   "outputs": [
    {
     "ename": "TypeError",
     "evalue": "'numpy.float64' object cannot be interpreted as an integer",
     "output_type": "error",
     "traceback": [
      "\u001b[0;31m---------------------------------------------------------------------------\u001b[0m",
      "\u001b[0;31mTypeError\u001b[0m                                 Traceback (most recent call last)",
      "Cell \u001b[0;32mIn[7], line 39\u001b[0m\n\u001b[1;32m     36\u001b[0m \t\u001b[38;5;28;01melse\u001b[39;00m:\n\u001b[1;32m     37\u001b[0m \t\t\u001b[38;5;28mprint\u001b[39m(\u001b[38;5;124m\"\u001b[39m\u001b[38;5;124mFingerprint does not match.\u001b[39m\u001b[38;5;124m\"\u001b[39m)\n\u001b[0;32m---> 39\u001b[0m \u001b[43mmain\u001b[49m\u001b[43m(\u001b[49m\u001b[43m)\u001b[49m\n",
      "Cell \u001b[0;32mIn[7], line 3\u001b[0m, in \u001b[0;36mmain\u001b[0;34m()\u001b[0m\n\u001b[1;32m      1\u001b[0m \u001b[38;5;28;01mdef\u001b[39;00m\u001b[38;5;250m \u001b[39m\u001b[38;5;21mmain\u001b[39m():\n\u001b[1;32m      2\u001b[0m \timg1 \u001b[38;5;241m=\u001b[39m sample\n\u001b[0;32m----> 3\u001b[0m \tkp1, des1 \u001b[38;5;241m=\u001b[39m \u001b[43mget_descriptors\u001b[49m\u001b[43m(\u001b[49m\u001b[43mimg1\u001b[49m\u001b[43m)\u001b[49m\n\u001b[1;32m      5\u001b[0m \timg2 \u001b[38;5;241m=\u001b[39m to_match\n\u001b[1;32m      6\u001b[0m \tkp2, des2 \u001b[38;5;241m=\u001b[39m get_descriptors(img2)\n",
      "Cell \u001b[0;32mIn[5], line 4\u001b[0m, in \u001b[0;36mget_descriptors\u001b[0;34m(img)\u001b[0m\n\u001b[1;32m      2\u001b[0m clahe \u001b[38;5;241m=\u001b[39m cv\u001b[38;5;241m.\u001b[39mcreateCLAHE(clipLimit\u001b[38;5;241m=\u001b[39m\u001b[38;5;241m2.0\u001b[39m, tileGridSize\u001b[38;5;241m=\u001b[39m(\u001b[38;5;241m8\u001b[39m,\u001b[38;5;241m8\u001b[39m))\n\u001b[1;32m      3\u001b[0m img \u001b[38;5;241m=\u001b[39m clahe\u001b[38;5;241m.\u001b[39mapply(img)\n\u001b[0;32m----> 4\u001b[0m img \u001b[38;5;241m=\u001b[39m \u001b[43mimage_enhance\u001b[49m\u001b[38;5;241;43m.\u001b[39;49m\u001b[43mimage_enhance\u001b[49m\u001b[43m(\u001b[49m\u001b[43mimg\u001b[49m\u001b[43m)\u001b[49m\n\u001b[1;32m      6\u001b[0m plt\u001b[38;5;241m.\u001b[39mimshow(img, cmap\u001b[38;5;241m=\u001b[39m\u001b[38;5;124m\"\u001b[39m\u001b[38;5;124mgray\u001b[39m\u001b[38;5;124m\"\u001b[39m)\n\u001b[1;32m      7\u001b[0m img \u001b[38;5;241m=\u001b[39m np\u001b[38;5;241m.\u001b[39marray(img, dtype\u001b[38;5;241m=\u001b[39mnp\u001b[38;5;241m.\u001b[39muint8)\n",
      "File \u001b[0;32m~/Project/Python/CVMiniProject/srcs/lib/image_enhance.py:33\u001b[0m, in \u001b[0;36mimage_enhance\u001b[0;34m(img)\u001b[0m\n\u001b[1;32m     31\u001b[0m freq \u001b[38;5;241m=\u001b[39m medfreq\u001b[38;5;241m*\u001b[39mmask;\n\u001b[1;32m     32\u001b[0m kx \u001b[38;5;241m=\u001b[39m \u001b[38;5;241m0.65\u001b[39m;ky \u001b[38;5;241m=\u001b[39m \u001b[38;5;241m0.65\u001b[39m;\n\u001b[0;32m---> 33\u001b[0m newim \u001b[38;5;241m=\u001b[39m \u001b[43mridge_filter\u001b[49m\u001b[43m(\u001b[49m\u001b[43mnormim\u001b[49m\u001b[43m,\u001b[49m\u001b[43m \u001b[49m\u001b[43morientim\u001b[49m\u001b[43m,\u001b[49m\u001b[43m \u001b[49m\u001b[43mfreq\u001b[49m\u001b[43m,\u001b[49m\u001b[43m \u001b[49m\u001b[43mkx\u001b[49m\u001b[43m,\u001b[49m\u001b[43m \u001b[49m\u001b[43mky\u001b[49m\u001b[43m)\u001b[49m;       \u001b[38;5;66;03m# create gabor filter and do the actual filtering\u001b[39;00m\n\u001b[1;32m     36\u001b[0m \u001b[38;5;66;03m#th, bin_im = cv2.threshold(np.uint8(newim),0,255,cv2.THRESH_BINARY);\u001b[39;00m\n\u001b[1;32m     37\u001b[0m \u001b[38;5;28;01mreturn\u001b[39;00m(newim \u001b[38;5;241m<\u001b[39m \u001b[38;5;241m-\u001b[39m\u001b[38;5;241m3\u001b[39m)\n",
      "File \u001b[0;32m~/Project/Python/CVMiniProject/srcs/lib/ridge_filter.py:82\u001b[0m, in \u001b[0;36mridge_filter\u001b[0;34m(im, orient, freq, kx, ky)\u001b[0m\n\u001b[1;32m     78\u001b[0m sigmay \u001b[38;5;241m=\u001b[39m \u001b[38;5;241m1\u001b[39m\u001b[38;5;241m/\u001b[39munfreq[\u001b[38;5;241m0\u001b[39m]\u001b[38;5;241m*\u001b[39mky;\n\u001b[1;32m     80\u001b[0m sze \u001b[38;5;241m=\u001b[39m np\u001b[38;5;241m.\u001b[39mround(\u001b[38;5;241m3\u001b[39m\u001b[38;5;241m*\u001b[39mnp\u001b[38;5;241m.\u001b[39mmax([sigmax,sigmay]));\n\u001b[0;32m---> 82\u001b[0m x,y \u001b[38;5;241m=\u001b[39m np\u001b[38;5;241m.\u001b[39mmeshgrid(\u001b[43mnp\u001b[49m\u001b[38;5;241;43m.\u001b[39;49m\u001b[43mlinspace\u001b[49m\u001b[43m(\u001b[49m\u001b[38;5;241;43m-\u001b[39;49m\u001b[43msze\u001b[49m\u001b[43m,\u001b[49m\u001b[43msze\u001b[49m\u001b[43m,\u001b[49m\u001b[43m(\u001b[49m\u001b[38;5;241;43m2\u001b[39;49m\u001b[38;5;241;43m*\u001b[39;49m\u001b[43msze\u001b[49m\u001b[43m \u001b[49m\u001b[38;5;241;43m+\u001b[39;49m\u001b[43m \u001b[49m\u001b[38;5;241;43m1\u001b[39;49m\u001b[43m)\u001b[49m\u001b[43m)\u001b[49m,np\u001b[38;5;241m.\u001b[39mlinspace(\u001b[38;5;241m-\u001b[39msze,sze,(\u001b[38;5;241m2\u001b[39m\u001b[38;5;241m*\u001b[39msze \u001b[38;5;241m+\u001b[39m \u001b[38;5;241m1\u001b[39m)));\n\u001b[1;32m     84\u001b[0m reffilter \u001b[38;5;241m=\u001b[39m np\u001b[38;5;241m.\u001b[39mexp(\u001b[38;5;241m-\u001b[39m(( (np\u001b[38;5;241m.\u001b[39mpower(x,\u001b[38;5;241m2\u001b[39m))\u001b[38;5;241m/\u001b[39m(sigmax\u001b[38;5;241m*\u001b[39msigmax) \u001b[38;5;241m+\u001b[39m (np\u001b[38;5;241m.\u001b[39mpower(y,\u001b[38;5;241m2\u001b[39m))\u001b[38;5;241m/\u001b[39m(sigmay\u001b[38;5;241m*\u001b[39msigmay)))) \u001b[38;5;241m*\u001b[39m np\u001b[38;5;241m.\u001b[39mcos(\u001b[38;5;241m2\u001b[39m\u001b[38;5;241m*\u001b[39mnp\u001b[38;5;241m.\u001b[39mpi\u001b[38;5;241m*\u001b[39munfreq[\u001b[38;5;241m0\u001b[39m]\u001b[38;5;241m*\u001b[39mx); \u001b[38;5;66;03m# this is the original gabor filter\u001b[39;00m\n\u001b[1;32m     86\u001b[0m filt_rows, filt_cols \u001b[38;5;241m=\u001b[39m reffilter\u001b[38;5;241m.\u001b[39mshape;    \n",
      "File \u001b[0;32m~/Project/Python/CVMiniProject/.venv/lib/python3.12/site-packages/numpy/_core/function_base.py:121\u001b[0m, in \u001b[0;36mlinspace\u001b[0;34m(start, stop, num, endpoint, retstep, dtype, axis, device)\u001b[0m\n\u001b[1;32m     25\u001b[0m \u001b[38;5;129m@array_function_dispatch\u001b[39m(_linspace_dispatcher)\n\u001b[1;32m     26\u001b[0m \u001b[38;5;28;01mdef\u001b[39;00m\u001b[38;5;250m \u001b[39m\u001b[38;5;21mlinspace\u001b[39m(start, stop, num\u001b[38;5;241m=\u001b[39m\u001b[38;5;241m50\u001b[39m, endpoint\u001b[38;5;241m=\u001b[39m\u001b[38;5;28;01mTrue\u001b[39;00m, retstep\u001b[38;5;241m=\u001b[39m\u001b[38;5;28;01mFalse\u001b[39;00m, dtype\u001b[38;5;241m=\u001b[39m\u001b[38;5;28;01mNone\u001b[39;00m,\n\u001b[1;32m     27\u001b[0m              axis\u001b[38;5;241m=\u001b[39m\u001b[38;5;241m0\u001b[39m, \u001b[38;5;241m*\u001b[39m, device\u001b[38;5;241m=\u001b[39m\u001b[38;5;28;01mNone\u001b[39;00m):\n\u001b[1;32m     28\u001b[0m \u001b[38;5;250m    \u001b[39m\u001b[38;5;124;03m\"\"\"\u001b[39;00m\n\u001b[1;32m     29\u001b[0m \u001b[38;5;124;03m    Return evenly spaced numbers over a specified interval.\u001b[39;00m\n\u001b[1;32m     30\u001b[0m \n\u001b[0;32m   (...)\u001b[0m\n\u001b[1;32m    119\u001b[0m \n\u001b[1;32m    120\u001b[0m \u001b[38;5;124;03m    \"\"\"\u001b[39;00m\n\u001b[0;32m--> 121\u001b[0m     num \u001b[38;5;241m=\u001b[39m \u001b[43moperator\u001b[49m\u001b[38;5;241;43m.\u001b[39;49m\u001b[43mindex\u001b[49m\u001b[43m(\u001b[49m\u001b[43mnum\u001b[49m\u001b[43m)\u001b[49m\n\u001b[1;32m    122\u001b[0m     \u001b[38;5;28;01mif\u001b[39;00m num \u001b[38;5;241m<\u001b[39m \u001b[38;5;241m0\u001b[39m:\n\u001b[1;32m    123\u001b[0m         \u001b[38;5;28;01mraise\u001b[39;00m \u001b[38;5;167;01mValueError\u001b[39;00m(\n\u001b[1;32m    124\u001b[0m             \u001b[38;5;124m\"\u001b[39m\u001b[38;5;124mNumber of samples, \u001b[39m\u001b[38;5;132;01m%s\u001b[39;00m\u001b[38;5;124m, must be non-negative.\u001b[39m\u001b[38;5;124m\"\u001b[39m \u001b[38;5;241m%\u001b[39m num\n\u001b[1;32m    125\u001b[0m         )\n",
      "\u001b[0;31mTypeError\u001b[0m: 'numpy.float64' object cannot be interpreted as an integer"
     ]
    }
   ],
   "source": [
    "def main():\n",
    "\timg1 = sample\n",
    "\tkp1, des1 = get_descriptors(img1)\n",
    "\n",
    "\timg2 = to_match\n",
    "\tkp2, des2 = get_descriptors(img2)\n",
    "\n",
    "\t# Matching between descriptors\n",
    "\tbf = cv.BFMatcher(cv.NORM_HAMMING, crossCheck=True)\n",
    "\tmatches = sorted(bf.match(des1, des2), key= lambda match:match.distance)\n",
    "\n",
    "\t# Plot keypoints\n",
    "\timg4 = cv.drawKeypoints(img1, kp1, outImage=None)\n",
    "\timg5 = cv.drawKeypoints(img2, kp2, outImage=None)\n",
    "\tf, axarr = plt.subplots(1,2)\n",
    "\taxarr[0].imshow(img4)\n",
    "\taxarr[1].imshow(img5)\n",
    "\tplt.show()\n",
    "\t# Plot matches\n",
    "\timg3 = cv.drawMatches(img1, kp1, img2, kp2, matches, flags=2, outImg=None)\n",
    "\tplt.imshow(img3)\n",
    "\tplt.show()\n",
    "\n",
    "\t# Calculate score\n",
    "\tscore = 0;\n",
    "\tfor match in matches:\n",
    "\t\tscore += match.distance\n",
    "\tscore_threshold = 33\n",
    "\tif len(matches) > 0 and score / len(matches) < score_threshold:\n",
    "\t\tprint(\"Fingerprint matches.\")\n",
    "\telse:\n",
    "\t\tprint(\"Fingerprint does not match.\")\n",
    "\n",
    "main()"
   ]
  }
 ],
 "metadata": {
  "kernelspec": {
   "display_name": ".venv",
   "language": "python",
   "name": "python3"
  },
  "language_info": {
   "codemirror_mode": {
    "name": "ipython",
    "version": 3
   },
   "file_extension": ".py",
   "mimetype": "text/x-python",
   "name": "python",
   "nbconvert_exporter": "python",
   "pygments_lexer": "ipython3",
   "version": "3.12.8"
  }
 },
 "nbformat": 4,
 "nbformat_minor": 2
}
