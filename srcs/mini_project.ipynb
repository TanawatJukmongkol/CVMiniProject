{
 "cells": [
  {
   "cell_type": "code",
   "execution_count": null,
   "metadata": {},
   "outputs": [
    {
     "ename": "",
     "evalue": "",
     "output_type": "error",
     "traceback": [
      "\u001b[1;31mRunning cells with '.venv (Python 3.12.8)' requires the ipykernel package.\n",
      "\u001b[1;31mRun the following command to install 'ipykernel' into the Python environment. \n",
      "\u001b[1;31mCommand: '/home/airgeddon1337/Project/Python/CVMiniProject/.venv/bin/python -m pip install ipykernel -U --force-reinstall'"
     ]
    }
   ],
   "source": [
    "import\tcv2 as cv\n",
    "import\tmatplotlib.pyplot as plt\n",
    "import\tnumpy as np\n",
    "import\tos\n",
    "import\tsys\n",
    "import\tmath\n",
    "from\tskimage.morphology import skeletonize\n",
    "# Library from utkarsh, Peter Kovesi\n",
    "# School of Computer Science & Software Engineering\n",
    "# The University of Western Australia\n",
    "from\tlib import image_enhance"
   ]
  },
  {
   "cell_type": "code",
   "execution_count": null,
   "metadata": {},
   "outputs": [],
   "source": [
    "sample = cv.imread(\"../db/101_1.tif\", cv.IMREAD_GRAYSCALE)\n",
    "to_match = cv.imread(\"../db/101_2.tif\", cv.IMREAD_GRAYSCALE)\n",
    "\n",
    "# Image 1\n",
    "plt.subplot(1, 2, 1)\n",
    "plt.imshow(sample, cmap=\"gray\")\n",
    "\n",
    "# Image 2\n",
    "plt.subplot(1, 2, 2)\n",
    "plt.imshow(to_match, cmap=\"gray\")"
   ]
  },
  {
   "cell_type": "code",
   "execution_count": null,
   "metadata": {},
   "outputs": [],
   "source": [
    "# Remove unwanted dots after skeletonize\n",
    "def removedot(invertThin):\n",
    "\ttemp0 = np.array(invertThin[:])\n",
    "\ttemp0 = np.array(temp0)\n",
    "\ttemp1 = temp0 / 255\n",
    "\ttemp2 = np.array(temp1)\n",
    "\ttemp3 = np.array(temp2)\n",
    "\n",
    "\tenhanced_img = np.array(temp0)\n",
    "\tfilter0 = np.zeros((10,10))\n",
    "\tW, H = temp0.shape[:2]\n",
    "\tfiltersize = 6\n",
    "\n",
    "\tfor i in range(W - filtersize):\n",
    "\t\tfor j in range(H - filtersize):\n",
    "\t\t\tfilter0 = temp1[i:i + filtersize,j:j + filtersize]\n",
    "\n",
    "\t\t\tflag = 0\n",
    "\t\t\tif sum(filter0[:,0]) == 0:\n",
    "\t\t\t\tflag +=1\n",
    "\t\t\tif sum(filter0[:,filtersize - 1]) == 0:\n",
    "\t\t\t\tflag +=1\n",
    "\t\t\tif sum(filter0[0,:]) == 0:\n",
    "\t\t\t\tflag +=1\n",
    "\t\t\tif sum(filter0[filtersize - 1,:]) == 0:\n",
    "\t\t\t\tflag +=1\n",
    "\t\t\tif flag > 3:\n",
    "\t\t\t\ttemp2[i:i + filtersize, j:j + filtersize] = np.zeros((filtersize, filtersize))\n",
    "\n",
    "\treturn temp2"
   ]
  },
  {
   "cell_type": "code",
   "execution_count": null,
   "metadata": {},
   "outputs": [],
   "source": [
    "def get_descriptors(img):\n",
    "\tclahe = cv.createCLAHE(clipLimit=2.0, tileGridSize=(8,8))\n",
    "\timg = clahe.apply(img)\n",
    "\timg = image_enhance.image_enhance(img)\n",
    "\t\n",
    "\tplt.subplot(2, 2, 1)\n",
    "\tplt.imshow(img, cmap=\"gray\")\n",
    "\n",
    "\timg = np.array(img, dtype=np.uint8)\n",
    "\t\n",
    "\t# Threshold\n",
    "\tret, img = cv.threshold(img, 200, 255, cv.THRESH_BINARY_INV | cv.THRESH_OTSU)\n",
    "\t\n",
    "\t# Normalize to 0 and 1 range\n",
    "\timg[img == 255] = 1\n",
    "\t\n",
    "\t#Thinning\n",
    "\tskeleton = skeletonize(img)\n",
    "\tskeleton = np.array(skeleton, dtype=np.uint8)\n",
    "\tskeleton = removedot(skeleton)\n",
    "\tplt.subplot(2, 2, 2)\n",
    "\tplt.imshow(skeleton, cmap=\"gray\")\n",
    "\n",
    "\t# Harris corners\n",
    "\tharris_corners = cv.cornerHarris(img, 3, 3, 0.04)\n",
    "\tharris_normalized = cv.normalize(harris_corners, 0, 255, norm_type=cv.NORM_MINMAX, dtype=cv.CV_32FC1)\n",
    "\tthreshold_harris = 125\n",
    "\n",
    "\tplt.subplot(2, 2, 3)\t\n",
    "\tplt.imshow(harris_normalized, cmap=\"gray\")\n",
    "\t\n",
    "\t# Extract keypoints\n",
    "\tkeypoints = []\n",
    "\tfor x in range(0, harris_normalized.shape[0]):\n",
    "\t\tfor y in range(0, harris_normalized.shape[1]):\n",
    "\t\t\tif harris_normalized[x][y] > threshold_harris:\n",
    "\t\t\t\tkeypoints.append(cv.KeyPoint(y, x, 1))\n",
    "\t\n",
    "\t# Define descriptor\n",
    "\torb = cv.ORB_create()\n",
    "\t\n",
    "\t# Compute descriptors\n",
    "\t_, des = orb.compute(img, keypoints)\n",
    "\t\n",
    "\treturn (keypoints, des);"
   ]
  },
  {
   "cell_type": "code",
   "execution_count": null,
   "metadata": {},
   "outputs": [],
   "source": [
    "# find image descriptors\n",
    "img1 = sample\n",
    "kp1, des1 = get_descriptors(img1)\n",
    "img2 = to_match\n",
    "kp2, des2 = get_descriptors(img2)\n",
    "\n",
    "# Matching between descriptors\n",
    "bf = cv.BFMatcher(cv.NORM_HAMMING, crossCheck=True)\n",
    "matches = sorted(bf.match(des1, des2), key= lambda match:match.distance)"
   ]
  },
  {
   "cell_type": "code",
   "execution_count": null,
   "metadata": {},
   "outputs": [],
   "source": [
    "# Plot keypoints\n",
    "img4 = cv.drawKeypoints(img1, kp1, outImage=None)\n",
    "img5 = cv.drawKeypoints(img2, kp2, outImage=None)\n",
    "f, axarr = plt.subplots(1,2)\n",
    "axarr[0].imshow(img4)\n",
    "axarr[1].imshow(img5)\n",
    "plt.show()"
   ]
  },
  {
   "cell_type": "code",
   "execution_count": null,
   "metadata": {},
   "outputs": [],
   "source": [
    "# Plot matches\n",
    "img3 = cv.drawMatches(img1, kp1, img2, kp2, matches, flags=2, outImg=None)\n",
    "plt.imshow(img3)\n",
    "plt.show()\n",
    "\n",
    "# Calculate score\n",
    "score = 0;\n",
    "for match in matches:\n",
    "\tscore += match.distance\n",
    "\n",
    "score_threshold = 33\n",
    "if len(matches) > 0 and score / len(matches) < score_threshold:\n",
    "\tprint(\"Fingerprint matches.\")\n",
    "else:\n",
    "\tprint(\"Fingerprint does not match.\")"
   ]
  }
 ],
 "metadata": {
  "kernelspec": {
   "display_name": ".venv",
   "language": "python",
   "name": "python3"
  },
  "language_info": {
   "codemirror_mode": {
    "name": "ipython",
    "version": 3
   },
   "file_extension": ".py",
   "mimetype": "text/x-python",
   "name": "python",
   "nbconvert_exporter": "python",
   "pygments_lexer": "ipython3",
   "version": "3.12.8"
  }
 },
 "nbformat": 4,
 "nbformat_minor": 2
}
